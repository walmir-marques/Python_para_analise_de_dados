{
 "cells": [
  {
   "cell_type": "markdown",
   "id": "3aba97a4",
   "metadata": {},
   "source": [
    "<a target=\"_blank\" href=\"https://colab.research.google.com/github/lukebarousse/Python_Data_Analytics_Course/blob/main/1_Basics/23_Pandas_Intro.ipynb\">\n",
    "  <img src=\"https://colab.research.google.com/assets/colab-badge.svg\" alt=\"Open In Colab\"/>\n",
    "</a>"
   ]
  },
  {
   "cell_type": "markdown",
   "metadata": {
    "id": "qgGhPvqjpyxp"
   },
   "source": [
    "# Pandas Intro"
   ]
  },
  {
   "cell_type": "markdown",
   "metadata": {},
   "source": [
    "## Overview\n",
    "\n",
    "### Notes\n",
    "\n",
    "* **Pandas** is a Python library used for working with data sets.\n",
    "* It lets us analyze, clean, explore and manipulate data.\n",
    "* Pandas primarily uses two data structures to store data:\n",
    "    * **Series**: A one-dimensional array with data labels, called its index, capable of holding any data type. It's like a column in a spreadsheet.\n",
    "    * **DataFrame**: A two-dimensional, mutable table with labeled axes (rows and columns). It resembles a spreadsheet or SQL table and can contain multiple Series objects of different data types.\n",
    "\n",
    "### Importance\n",
    "\n",
    "* Pandas is one of the most popular and most used library for working with data is Pandas.\n",
    "* It provides functions for data manipulation, from simple data aggregation to complex merging and joining of datasets.\n",
    "* Lets us analyze big data and use statistics.\n",
    "* Works well with other Python libraries, enhancing its functionality for numerical computations and visualizations.\n",
    "\n",
    "### Import\n",
    "\n",
    "* First before we even use the library we have to load it in our environment and import it using the `import` command.\n",
    "* Also once we import it we are going to rename it to `pd`, which is a common alias we give a library. It makes it easier to type out instead of having to type out `pandas` every time. It's technically optional, but it is convention to do this."
   ]
  },
  {
   "cell_type": "markdown",
   "metadata": {},
   "source": [
    "NOTE: If running this locally with conda you need to install pandas (ignore if running in Colab)."
   ]
  },
  {
   "cell_type": "code",
   "execution_count": 5,
   "metadata": {},
   "outputs": [],
   "source": [
    "# !conda install pandas \n",
    "\n",
    "import pandas as pd"
   ]
  },
  {
   "cell_type": "markdown",
   "metadata": {},
   "source": [
    "## Loading Data\n",
    "\n",
    "### Notes\n",
    "\n",
    "- We can load data from a CSV using `pd.read_csv()`\n",
    "- We can also load data from an Excel file using `pd.read_excel()`"
   ]
  },
  {
   "cell_type": "code",
   "execution_count": 3,
   "metadata": {},
   "outputs": [],
   "source": [
    "# pd.read_csv('path_to_file.csv')"
   ]
  },
  {
   "cell_type": "code",
   "execution_count": 4,
   "metadata": {},
   "outputs": [],
   "source": [
    "# pd.read_excel('path_to_file.xlsx')"
   ]
  },
  {
   "cell_type": "markdown",
   "metadata": {
    "id": "3supHbmITHxj"
   },
   "source": [
    "### Example\n",
    "\n",
    "This lets us run the code in Collab Notebooks without any troubles, but you will have to load and install the `datasets` library every time you open a new session.\n",
    "\n",
    "NOTE: In Colab or if running locally, you need to install datasets library first."
   ]
  },
  {
   "cell_type": "code",
   "execution_count": 6,
   "metadata": {},
   "outputs": [],
   "source": [
    "# !conda install datasets\n",
    "\n",
    "# OR\n",
    "\n",
    "# !pip install datasets"
   ]
  },
  {
   "cell_type": "markdown",
   "metadata": {},
   "source": [
    "To load in the latest dataset use this code. "
   ]
  },
  {
   "cell_type": "code",
   "execution_count": 1,
   "metadata": {},
   "outputs": [
    {
     "name": "stderr",
     "output_type": "stream",
     "text": [
      "/Users/lukebarousse/opt/anaconda3/envs/python_course/lib/python3.9/site-packages/tqdm/auto.py:21: TqdmWarning: IProgress not found. Please update jupyter and ipywidgets. See https://ipywidgets.readthedocs.io/en/stable/user_install.html\n",
      "  from .autonotebook import tqdm as notebook_tqdm\n"
     ]
    }
   ],
   "source": [
    "from datasets import load_dataset\n",
    "\n",
    "# Loading Data\n",
    "dataset = load_dataset('lukebarousse/data_jobs')\n",
    "df = dataset['train'].to_pandas()"
   ]
  },
  {
   "cell_type": "markdown",
   "metadata": {},
   "source": [
    "**Note:** For the rest of the sections in this course we'll be doing some exploratory data analysis (EDA) to learn more about the dataset we have. This is a crucial first step so we understand the dataset before doing more advanced analysis and visualization."
   ]
  },
  {
   "cell_type": "markdown",
   "metadata": {},
   "source": [
    "## DataFrames Intro\n",
    "\n",
    "#### What is it?\n",
    "\n",
    "- A DataFrame is a 2-dimensional labeled data structure with columns of potentially different types.\n",
    "- It's like a table in a relational database or a spreadsheet.\n",
    "\n",
    "#### Rows and Columns\n",
    "- DataFrames consist of rows and columns, where each row represents a single observation or record, and each column represents a variable or feature."
   ]
  },
  {
   "cell_type": "code",
   "execution_count": 2,
   "metadata": {},
   "outputs": [
    {
     "data": {
      "text/html": [
       "<div>\n",
       "<style scoped>\n",
       "    .dataframe tbody tr th:only-of-type {\n",
       "        vertical-align: middle;\n",
       "    }\n",
       "\n",
       "    .dataframe tbody tr th {\n",
       "        vertical-align: top;\n",
       "    }\n",
       "\n",
       "    .dataframe thead th {\n",
       "        text-align: right;\n",
       "    }\n",
       "</style>\n",
       "<table border=\"1\" class=\"dataframe\">\n",
       "  <thead>\n",
       "    <tr style=\"text-align: right;\">\n",
       "      <th></th>\n",
       "      <th>job_title_short</th>\n",
       "      <th>job_title</th>\n",
       "      <th>job_location</th>\n",
       "      <th>job_via</th>\n",
       "      <th>job_schedule_type</th>\n",
       "      <th>job_work_from_home</th>\n",
       "      <th>search_location</th>\n",
       "      <th>job_posted_date</th>\n",
       "      <th>job_no_degree_mention</th>\n",
       "      <th>job_health_insurance</th>\n",
       "      <th>job_country</th>\n",
       "      <th>salary_rate</th>\n",
       "      <th>salary_year_avg</th>\n",
       "      <th>salary_hour_avg</th>\n",
       "      <th>company_name</th>\n",
       "      <th>job_skills</th>\n",
       "      <th>job_type_skills</th>\n",
       "    </tr>\n",
       "  </thead>\n",
       "  <tbody>\n",
       "    <tr>\n",
       "      <th>0</th>\n",
       "      <td>Data Analyst</td>\n",
       "      <td>Data Analytics</td>\n",
       "      <td>Monterrey, Nuevo Leon, Mexico</td>\n",
       "      <td>via BeBee</td>\n",
       "      <td>Part-time</td>\n",
       "      <td>False</td>\n",
       "      <td>Mexico</td>\n",
       "      <td>2023-12-05 07:26:05</td>\n",
       "      <td>False</td>\n",
       "      <td>False</td>\n",
       "      <td>Mexico</td>\n",
       "      <td>None</td>\n",
       "      <td>NaN</td>\n",
       "      <td>NaN</td>\n",
       "      <td>2U Bootcamps Instructional Engagement</td>\n",
       "      <td>['go', 'python', 'mongodb', 'mongodb', 'css', ...</td>\n",
       "      <td>{'analyst_tools': ['tableau'], 'databases': ['...</td>\n",
       "    </tr>\n",
       "    <tr>\n",
       "      <th>1</th>\n",
       "      <td>Data Scientist</td>\n",
       "      <td>Data Scientist Intern</td>\n",
       "      <td>Lisbon, Portugal</td>\n",
       "      <td>via Empregos Trabajo.org</td>\n",
       "      <td>Full-time</td>\n",
       "      <td>False</td>\n",
       "      <td>Portugal</td>\n",
       "      <td>2023-08-20 07:46:51</td>\n",
       "      <td>False</td>\n",
       "      <td>False</td>\n",
       "      <td>Portugal</td>\n",
       "      <td>None</td>\n",
       "      <td>NaN</td>\n",
       "      <td>NaN</td>\n",
       "      <td>Nokia</td>\n",
       "      <td>['sql', 'python', 'sql server', 'oracle', 'azu...</td>\n",
       "      <td>{'analyst_tools': ['sap'], 'cloud': ['oracle',...</td>\n",
       "    </tr>\n",
       "    <tr>\n",
       "      <th>2</th>\n",
       "      <td>Data Analyst</td>\n",
       "      <td>Manager, Data Analytics</td>\n",
       "      <td>Guanacaste Province, Lagunilla, Costa Rica</td>\n",
       "      <td>via BeBee Costa Rica</td>\n",
       "      <td>Full-time</td>\n",
       "      <td>False</td>\n",
       "      <td>Costa Rica</td>\n",
       "      <td>2023-11-21 08:37:14</td>\n",
       "      <td>False</td>\n",
       "      <td>False</td>\n",
       "      <td>Costa Rica</td>\n",
       "      <td>None</td>\n",
       "      <td>NaN</td>\n",
       "      <td>NaN</td>\n",
       "      <td>Thermo Fisher Scientific</td>\n",
       "      <td>None</td>\n",
       "      <td>None</td>\n",
       "    </tr>\n",
       "    <tr>\n",
       "      <th>3</th>\n",
       "      <td>Data Engineer</td>\n",
       "      <td>Data Engineer</td>\n",
       "      <td>Lambayeque, Peru</td>\n",
       "      <td>via BeBee Perú</td>\n",
       "      <td>Full-time</td>\n",
       "      <td>False</td>\n",
       "      <td>Peru</td>\n",
       "      <td>2023-11-21 07:36:33</td>\n",
       "      <td>True</td>\n",
       "      <td>False</td>\n",
       "      <td>Peru</td>\n",
       "      <td>None</td>\n",
       "      <td>NaN</td>\n",
       "      <td>NaN</td>\n",
       "      <td>Emprego</td>\n",
       "      <td>None</td>\n",
       "      <td>None</td>\n",
       "    </tr>\n",
       "    <tr>\n",
       "      <th>4</th>\n",
       "      <td>Data Analyst</td>\n",
       "      <td>Technical Data Analyst</td>\n",
       "      <td>Fairfax, VA</td>\n",
       "      <td>via Indeed</td>\n",
       "      <td>Contractor</td>\n",
       "      <td>False</td>\n",
       "      <td>New York, United States</td>\n",
       "      <td>2023-12-20 07:00:10</td>\n",
       "      <td>True</td>\n",
       "      <td>False</td>\n",
       "      <td>United States</td>\n",
       "      <td>None</td>\n",
       "      <td>NaN</td>\n",
       "      <td>NaN</td>\n",
       "      <td>Info Origin Inc.</td>\n",
       "      <td>['sql', 'python', 'jira']</td>\n",
       "      <td>{'async': ['jira'], 'programming': ['sql', 'py...</td>\n",
       "    </tr>\n",
       "    <tr>\n",
       "      <th>...</th>\n",
       "      <td>...</td>\n",
       "      <td>...</td>\n",
       "      <td>...</td>\n",
       "      <td>...</td>\n",
       "      <td>...</td>\n",
       "      <td>...</td>\n",
       "      <td>...</td>\n",
       "      <td>...</td>\n",
       "      <td>...</td>\n",
       "      <td>...</td>\n",
       "      <td>...</td>\n",
       "      <td>...</td>\n",
       "      <td>...</td>\n",
       "      <td>...</td>\n",
       "      <td>...</td>\n",
       "      <td>...</td>\n",
       "      <td>...</td>\n",
       "    </tr>\n",
       "    <tr>\n",
       "      <th>787681</th>\n",
       "      <td>Senior Data Engineer</td>\n",
       "      <td>(Senior) Data Engineer (m/w/d) - PUBLIC BW / C...</td>\n",
       "      <td>Leinfelden-Echterdingen, Jerman</td>\n",
       "      <td>melalui Monster.de</td>\n",
       "      <td>Pekerjaan tetap</td>\n",
       "      <td>False</td>\n",
       "      <td>Germany</td>\n",
       "      <td>2023-03-13 06:18:59</td>\n",
       "      <td>False</td>\n",
       "      <td>False</td>\n",
       "      <td>Germany</td>\n",
       "      <td>None</td>\n",
       "      <td>NaN</td>\n",
       "      <td>NaN</td>\n",
       "      <td>CGI Group, Inc.</td>\n",
       "      <td>['python', 'sql', 'azure', 'aws', 'hadoop', 's...</td>\n",
       "      <td>{'cloud': ['azure', 'aws'], 'libraries': ['had...</td>\n",
       "    </tr>\n",
       "    <tr>\n",
       "      <th>787682</th>\n",
       "      <td>Data Analyst</td>\n",
       "      <td>Lead Data Analyst</td>\n",
       "      <td>Jerman</td>\n",
       "      <td>melalui BeBee Deutschland</td>\n",
       "      <td>Pekerjaan tetap</td>\n",
       "      <td>False</td>\n",
       "      <td>Germany</td>\n",
       "      <td>2023-03-12 06:18:18</td>\n",
       "      <td>False</td>\n",
       "      <td>False</td>\n",
       "      <td>Germany</td>\n",
       "      <td>None</td>\n",
       "      <td>NaN</td>\n",
       "      <td>NaN</td>\n",
       "      <td>Amtrak</td>\n",
       "      <td>['vba', 'sql', 'python', 'excel', 'sap', 'shar...</td>\n",
       "      <td>{'analyst_tools': ['excel', 'sap', 'sharepoint...</td>\n",
       "    </tr>\n",
       "    <tr>\n",
       "      <th>787683</th>\n",
       "      <td>Data Engineer</td>\n",
       "      <td>Lead Data Engineer</td>\n",
       "      <td>Frankfurt am Main, Jerman</td>\n",
       "      <td>melalui Top County Careers</td>\n",
       "      <td>Pekerjaan tetap</td>\n",
       "      <td>False</td>\n",
       "      <td>Germany</td>\n",
       "      <td>2023-03-13 06:18:59</td>\n",
       "      <td>False</td>\n",
       "      <td>False</td>\n",
       "      <td>Germany</td>\n",
       "      <td>None</td>\n",
       "      <td>NaN</td>\n",
       "      <td>NaN</td>\n",
       "      <td>Tiro Partners Limited</td>\n",
       "      <td>['python', 'sql', 'scala', 'java', 'javascript...</td>\n",
       "      <td>{'analyst_tools': ['sas', 'tableau', 'power bi...</td>\n",
       "    </tr>\n",
       "    <tr>\n",
       "      <th>787684</th>\n",
       "      <td>Software Engineer</td>\n",
       "      <td>Lead Solutions Design Engineer</td>\n",
       "      <td>San Juan, Puerto Riko</td>\n",
       "      <td>melalui BeBee Puerto Rico</td>\n",
       "      <td>Pekerjaan tetap</td>\n",
       "      <td>False</td>\n",
       "      <td>Puerto Rico</td>\n",
       "      <td>2023-03-12 06:31:19</td>\n",
       "      <td>False</td>\n",
       "      <td>False</td>\n",
       "      <td>Puerto Rico</td>\n",
       "      <td>None</td>\n",
       "      <td>NaN</td>\n",
       "      <td>NaN</td>\n",
       "      <td>Ryder</td>\n",
       "      <td>['excel', 'powerpoint', 'tableau']</td>\n",
       "      <td>{'analyst_tools': ['excel', 'powerpoint', 'tab...</td>\n",
       "    </tr>\n",
       "    <tr>\n",
       "      <th>787685</th>\n",
       "      <td>Senior Data Engineer</td>\n",
       "      <td>Senior Data Engineer (m/f/d)</td>\n",
       "      <td>Paderborn, Jerman</td>\n",
       "      <td>melalui Top County Careers</td>\n",
       "      <td>Pekerjaan tetap</td>\n",
       "      <td>False</td>\n",
       "      <td>Germany</td>\n",
       "      <td>2023-03-13 06:19:07</td>\n",
       "      <td>False</td>\n",
       "      <td>False</td>\n",
       "      <td>Germany</td>\n",
       "      <td>None</td>\n",
       "      <td>NaN</td>\n",
       "      <td>NaN</td>\n",
       "      <td>SO Digital Recruitment</td>\n",
       "      <td>['sql', 'nosql', 'azure', 'spark', 'hadoop']</td>\n",
       "      <td>{'cloud': ['azure'], 'libraries': ['spark', 'h...</td>\n",
       "    </tr>\n",
       "  </tbody>\n",
       "</table>\n",
       "<p>787686 rows × 17 columns</p>\n",
       "</div>"
      ],
      "text/plain": [
       "             job_title_short  \\\n",
       "0               Data Analyst   \n",
       "1             Data Scientist   \n",
       "2               Data Analyst   \n",
       "3              Data Engineer   \n",
       "4               Data Analyst   \n",
       "...                      ...   \n",
       "787681  Senior Data Engineer   \n",
       "787682          Data Analyst   \n",
       "787683         Data Engineer   \n",
       "787684     Software Engineer   \n",
       "787685  Senior Data Engineer   \n",
       "\n",
       "                                                job_title  \\\n",
       "0                                          Data Analytics   \n",
       "1                                   Data Scientist Intern   \n",
       "2                                 Manager, Data Analytics   \n",
       "3                                           Data Engineer   \n",
       "4                                  Technical Data Analyst   \n",
       "...                                                   ...   \n",
       "787681  (Senior) Data Engineer (m/w/d) - PUBLIC BW / C...   \n",
       "787682                                  Lead Data Analyst   \n",
       "787683                                 Lead Data Engineer   \n",
       "787684                     Lead Solutions Design Engineer   \n",
       "787685                       Senior Data Engineer (m/f/d)   \n",
       "\n",
       "                                      job_location  \\\n",
       "0                    Monterrey, Nuevo Leon, Mexico   \n",
       "1                                 Lisbon, Portugal   \n",
       "2       Guanacaste Province, Lagunilla, Costa Rica   \n",
       "3                                 Lambayeque, Peru   \n",
       "4                                      Fairfax, VA   \n",
       "...                                            ...   \n",
       "787681             Leinfelden-Echterdingen, Jerman   \n",
       "787682                                      Jerman   \n",
       "787683                   Frankfurt am Main, Jerman   \n",
       "787684                       San Juan, Puerto Riko   \n",
       "787685                           Paderborn, Jerman   \n",
       "\n",
       "                           job_via job_schedule_type  job_work_from_home  \\\n",
       "0                        via BeBee         Part-time               False   \n",
       "1         via Empregos Trabajo.org         Full-time               False   \n",
       "2             via BeBee Costa Rica         Full-time               False   \n",
       "3                   via BeBee Perú         Full-time               False   \n",
       "4                       via Indeed        Contractor               False   \n",
       "...                            ...               ...                 ...   \n",
       "787681          melalui Monster.de   Pekerjaan tetap               False   \n",
       "787682   melalui BeBee Deutschland   Pekerjaan tetap               False   \n",
       "787683  melalui Top County Careers   Pekerjaan tetap               False   \n",
       "787684   melalui BeBee Puerto Rico   Pekerjaan tetap               False   \n",
       "787685  melalui Top County Careers   Pekerjaan tetap               False   \n",
       "\n",
       "                search_location      job_posted_date  job_no_degree_mention  \\\n",
       "0                        Mexico  2023-12-05 07:26:05                  False   \n",
       "1                      Portugal  2023-08-20 07:46:51                  False   \n",
       "2                    Costa Rica  2023-11-21 08:37:14                  False   \n",
       "3                          Peru  2023-11-21 07:36:33                   True   \n",
       "4       New York, United States  2023-12-20 07:00:10                   True   \n",
       "...                         ...                  ...                    ...   \n",
       "787681                  Germany  2023-03-13 06:18:59                  False   \n",
       "787682                  Germany  2023-03-12 06:18:18                  False   \n",
       "787683                  Germany  2023-03-13 06:18:59                  False   \n",
       "787684              Puerto Rico  2023-03-12 06:31:19                  False   \n",
       "787685                  Germany  2023-03-13 06:19:07                  False   \n",
       "\n",
       "        job_health_insurance    job_country salary_rate  salary_year_avg  \\\n",
       "0                      False         Mexico        None              NaN   \n",
       "1                      False       Portugal        None              NaN   \n",
       "2                      False     Costa Rica        None              NaN   \n",
       "3                      False           Peru        None              NaN   \n",
       "4                      False  United States        None              NaN   \n",
       "...                      ...            ...         ...              ...   \n",
       "787681                 False        Germany        None              NaN   \n",
       "787682                 False        Germany        None              NaN   \n",
       "787683                 False        Germany        None              NaN   \n",
       "787684                 False    Puerto Rico        None              NaN   \n",
       "787685                 False        Germany        None              NaN   \n",
       "\n",
       "        salary_hour_avg                           company_name  \\\n",
       "0                   NaN  2U Bootcamps Instructional Engagement   \n",
       "1                   NaN                                  Nokia   \n",
       "2                   NaN               Thermo Fisher Scientific   \n",
       "3                   NaN                                Emprego   \n",
       "4                   NaN                       Info Origin Inc.   \n",
       "...                 ...                                    ...   \n",
       "787681              NaN                        CGI Group, Inc.   \n",
       "787682              NaN                                 Amtrak   \n",
       "787683              NaN                  Tiro Partners Limited   \n",
       "787684              NaN                                  Ryder   \n",
       "787685              NaN                 SO Digital Recruitment   \n",
       "\n",
       "                                               job_skills  \\\n",
       "0       ['go', 'python', 'mongodb', 'mongodb', 'css', ...   \n",
       "1       ['sql', 'python', 'sql server', 'oracle', 'azu...   \n",
       "2                                                    None   \n",
       "3                                                    None   \n",
       "4                               ['sql', 'python', 'jira']   \n",
       "...                                                   ...   \n",
       "787681  ['python', 'sql', 'azure', 'aws', 'hadoop', 's...   \n",
       "787682  ['vba', 'sql', 'python', 'excel', 'sap', 'shar...   \n",
       "787683  ['python', 'sql', 'scala', 'java', 'javascript...   \n",
       "787684                 ['excel', 'powerpoint', 'tableau']   \n",
       "787685       ['sql', 'nosql', 'azure', 'spark', 'hadoop']   \n",
       "\n",
       "                                          job_type_skills  \n",
       "0       {'analyst_tools': ['tableau'], 'databases': ['...  \n",
       "1       {'analyst_tools': ['sap'], 'cloud': ['oracle',...  \n",
       "2                                                    None  \n",
       "3                                                    None  \n",
       "4       {'async': ['jira'], 'programming': ['sql', 'py...  \n",
       "...                                                   ...  \n",
       "787681  {'cloud': ['azure', 'aws'], 'libraries': ['had...  \n",
       "787682  {'analyst_tools': ['excel', 'sap', 'sharepoint...  \n",
       "787683  {'analyst_tools': ['sas', 'tableau', 'power bi...  \n",
       "787684  {'analyst_tools': ['excel', 'powerpoint', 'tab...  \n",
       "787685  {'cloud': ['azure'], 'libraries': ['spark', 'h...  \n",
       "\n",
       "[787686 rows x 17 columns]"
      ]
     },
     "execution_count": 2,
     "metadata": {},
     "output_type": "execute_result"
    }
   ],
   "source": [
    "df"
   ]
  },
  {
   "cell_type": "markdown",
   "metadata": {},
   "source": [
    "#### Column Names\n",
    "\n",
    "- Column names provide labels for each column in the DataFrame\n",
    "- They allow for easy reference and manipulation of data"
   ]
  },
  {
   "cell_type": "code",
   "execution_count": 3,
   "metadata": {},
   "outputs": [
    {
     "data": {
      "text/plain": [
       "0                 Data Analyst\n",
       "1               Data Scientist\n",
       "2                 Data Analyst\n",
       "3                Data Engineer\n",
       "4                 Data Analyst\n",
       "                  ...         \n",
       "787681    Senior Data Engineer\n",
       "787682            Data Analyst\n",
       "787683           Data Engineer\n",
       "787684       Software Engineer\n",
       "787685    Senior Data Engineer\n",
       "Name: job_title_short, Length: 787686, dtype: object"
      ]
     },
     "execution_count": 3,
     "metadata": {},
     "output_type": "execute_result"
    }
   ],
   "source": [
    "df['job_title_short']"
   ]
  },
  {
   "cell_type": "markdown",
   "metadata": {},
   "source": [
    "Note: you get info on column name, length, and dtype.\n",
    "\n",
    "You can also access column with dot notation."
   ]
  },
  {
   "cell_type": "code",
   "execution_count": 5,
   "metadata": {},
   "outputs": [
    {
     "data": {
      "text/plain": [
       "0                 Data Analyst\n",
       "1               Data Scientist\n",
       "2                 Data Analyst\n",
       "3                Data Engineer\n",
       "4                 Data Analyst\n",
       "                  ...         \n",
       "787681    Senior Data Engineer\n",
       "787682            Data Analyst\n",
       "787683           Data Engineer\n",
       "787684       Software Engineer\n",
       "787685    Senior Data Engineer\n",
       "Name: job_title_short, Length: 787686, dtype: object"
      ]
     },
     "execution_count": 5,
     "metadata": {},
     "output_type": "execute_result"
    }
   ],
   "source": [
    "df.job_title_short"
   ]
  },
  {
   "cell_type": "markdown",
   "metadata": {},
   "source": [
    "#### Index\n",
    "- DataFrames have an index, which provides a label for each row. By default, it's a sequence of integers starting from 0, but it can be customized."
   ]
  },
  {
   "cell_type": "code",
   "execution_count": 11,
   "metadata": {},
   "outputs": [
    {
     "data": {
      "text/plain": [
       "'Senior Data Engineer'"
      ]
     },
     "execution_count": 11,
     "metadata": {},
     "output_type": "execute_result"
    }
   ],
   "source": [
    "# Access a row by index\n",
    "df.job_title_short[787685]"
   ]
  },
  {
   "cell_type": "markdown",
   "metadata": {},
   "source": [
    "#### Data Inspection (upcoming)\n",
    "\n",
    "Dataframes have a ton of methods to inspect them!"
   ]
  },
  {
   "cell_type": "code",
   "execution_count": 12,
   "metadata": {},
   "outputs": [
    {
     "name": "stdout",
     "output_type": "stream",
     "text": [
      "<class 'pandas.core.frame.DataFrame'>\n",
      "RangeIndex: 787686 entries, 0 to 787685\n",
      "Data columns (total 17 columns):\n",
      " #   Column                 Non-Null Count   Dtype  \n",
      "---  ------                 --------------   -----  \n",
      " 0   job_title_short        787686 non-null  object \n",
      " 1   job_title              787685 non-null  object \n",
      " 2   job_location           786646 non-null  object \n",
      " 3   job_via                787679 non-null  object \n",
      " 4   job_schedule_type      774976 non-null  object \n",
      " 5   job_work_from_home     787686 non-null  bool   \n",
      " 6   search_location        787686 non-null  object \n",
      " 7   job_posted_date        787686 non-null  object \n",
      " 8   job_no_degree_mention  787686 non-null  bool   \n",
      " 9   job_health_insurance   787686 non-null  bool   \n",
      " 10  job_country            787633 non-null  object \n",
      " 11  salary_rate            33073 non-null   object \n",
      " 12  salary_year_avg        22026 non-null   float64\n",
      " 13  salary_hour_avg        10649 non-null   float64\n",
      " 14  company_name           787668 non-null  object \n",
      " 15  job_skills             670364 non-null  object \n",
      " 16  job_type_skills        670364 non-null  object \n",
      "dtypes: bool(3), float64(2), object(12)\n",
      "memory usage: 86.4+ MB\n"
     ]
    }
   ],
   "source": [
    "df.info()"
   ]
  }
 ],
 "metadata": {
  "colab": {
   "authorship_tag": "ABX9TyOesntGgbKf0j5kTUlASbMV",
   "provenance": [],
   "toc_visible": true
  },
  "kernelspec": {
   "display_name": "Python 3",
   "name": "python3"
  },
  "language_info": {
   "codemirror_mode": {
    "name": "ipython",
    "version": 3
   },
   "file_extension": ".py",
   "mimetype": "text/x-python",
   "name": "python",
   "nbconvert_exporter": "python",
   "pygments_lexer": "ipython3",
   "version": "3.9.19"
  }
 },
 "nbformat": 4,
 "nbformat_minor": 0
}
