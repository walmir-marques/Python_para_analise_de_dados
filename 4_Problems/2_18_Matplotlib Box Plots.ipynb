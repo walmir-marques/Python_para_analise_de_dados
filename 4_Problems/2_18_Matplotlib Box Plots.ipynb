{
 "cells": [
  {
   "cell_type": "markdown",
   "id": "0b30e927",
   "metadata": {},
   "source": [
    "<a target=\"_blank\" href=\"https://colab.research.google.com/github/lukebarousse/Python_Data_Analytics_Course/blob/main/4_Problems/2_18_Matplotlib Box Plots.ipynb\">\n",
    "  <img src=\"https://colab.research.google.com/assets/colab-badge.svg\" alt=\"Open In Colab\"/>\n",
    "</a>"
   ]
  },
  {
   "cell_type": "code",
   "execution_count": null,
   "id": "3c017136",
   "metadata": {},
   "outputs": [],
   "source": [
    "# Importing Libraries\n",
    "import ast\n",
    "import pandas as pd\n",
    "from datasets import load_dataset\n",
    "import matplotlib.pyplot as plt  \n",
    "\n",
    "# Loading Data\n",
    "dataset = load_dataset('lukebarousse/data_jobs')\n",
    "df = dataset['train'].to_pandas()\n",
    "\n",
    "# Data Cleanup\n",
    "df['job_posted_date'] = pd.to_datetime(df['job_posted_date'])\n",
    "df['job_skills'] = df['job_skills'].apply(lambda x: ast.literal_eval(x) if pd.notna(x) else x)"
   ]
  },
  {
   "cell_type": "markdown",
   "id": "23525e55",
   "metadata": {},
   "source": [
    "## 🟩 Data Scientist Hourly Salary Box Plot (2.18.1)"
   ]
  },
  {
   "cell_type": "code",
   "execution_count": null,
   "id": "fccfa221",
   "metadata": {},
   "outputs": [],
   "source": []
  },
  {
   "cell_type": "markdown",
   "id": "dbf0176c",
   "metadata": {},
   "source": [
    "---"
   ]
  },
  {
   "cell_type": "markdown",
   "id": "29258e79",
   "metadata": {},
   "source": [
    "## 🟨 Comparison of Hourly Salaries for Data Analyst (2.18.2)"
   ]
  },
  {
   "cell_type": "code",
   "execution_count": null,
   "id": "1b5938ae",
   "metadata": {},
   "outputs": [],
   "source": [
    "# Code Needed\n",
    "countries = ['United States', 'Canada']"
   ]
  },
  {
   "cell_type": "markdown",
   "id": "dfeef833",
   "metadata": {},
   "source": [
    "---"
   ]
  },
  {
   "cell_type": "markdown",
   "id": "40ad829f",
   "metadata": {},
   "source": [
    "## 🟥 Comparison of Hourly Salaries in Germany (2.18.3)"
   ]
  },
  {
   "cell_type": "code",
   "execution_count": null,
   "id": "7bf0adce",
   "metadata": {},
   "outputs": [],
   "source": [
    "# Code Needed\n",
    "job_titles = ['Data Analyst', 'Data Engineer', 'Data Scientist']"
   ]
  },
  {
   "cell_type": "markdown",
   "id": "c6ec9984",
   "metadata": {},
   "source": [
    "---"
   ]
  }
 ],
 "metadata": {
  "language_info": {
   "name": "python"
  }
 },
 "nbformat": 4,
 "nbformat_minor": 5
}
