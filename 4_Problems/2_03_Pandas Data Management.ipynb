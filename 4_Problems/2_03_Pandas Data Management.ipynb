{
 "cells": [
  {
   "cell_type": "markdown",
   "id": "2de117a5",
   "metadata": {},
   "source": [
    "<a target=\"_blank\" href=\"https://colab.research.google.com/github/lukebarousse/Python_Data_Analytics_Course/blob/main/4_Problems/2_03_Pandas Data Management.ipynb\">\n",
    "  <img src=\"https://colab.research.google.com/assets/colab-badge.svg\" alt=\"Open In Colab\"/>\n",
    "</a>"
   ]
  },
  {
   "cell_type": "code",
   "execution_count": null,
   "id": "beaec578",
   "metadata": {},
   "outputs": [],
   "source": [
    "# Importing Libraries\n",
    "import pandas as pd\n",
    "from datasets import load_dataset\n",
    "import matplotlib.pyplot as plt  \n",
    "\n",
    "# Loading Data\n",
    "dataset = load_dataset('lukebarousse/data_jobs')\n",
    "df = dataset['train'].to_pandas()\n",
    "\n",
    "# Data Cleanup\n",
    "df['job_posted_date'] = pd.to_datetime(df['job_posted_date'])"
   ]
  },
  {
   "cell_type": "markdown",
   "id": "5a78d60d",
   "metadata": {},
   "source": [
    "## 🟩 Drop Missing Values (2.3.1)"
   ]
  },
  {
   "cell_type": "code",
   "execution_count": null,
   "id": "1701146c",
   "metadata": {},
   "outputs": [],
   "source": []
  },
  {
   "cell_type": "markdown",
   "id": "eaa14a5c",
   "metadata": {},
   "source": [
    "---"
   ]
  },
  {
   "cell_type": "markdown",
   "id": "6aa23bf4",
   "metadata": {},
   "source": [
    "## 🟩 Random Sample of DataFrame (2.3.2)"
   ]
  },
  {
   "cell_type": "code",
   "execution_count": null,
   "id": "ba696adb",
   "metadata": {},
   "outputs": [],
   "source": []
  },
  {
   "cell_type": "markdown",
   "id": "6b0a48b3",
   "metadata": {},
   "source": [
    "---"
   ]
  },
  {
   "cell_type": "markdown",
   "id": "487eecdd",
   "metadata": {},
   "source": [
    "## 🟨 Fill Missing Salaries (2.3.3)"
   ]
  },
  {
   "cell_type": "code",
   "execution_count": null,
   "id": "36350382",
   "metadata": {},
   "outputs": [],
   "source": []
  },
  {
   "cell_type": "markdown",
   "id": "230b0f86",
   "metadata": {},
   "source": [
    "---"
   ]
  }
 ],
 "metadata": {
  "language_info": {
   "name": "python"
  }
 },
 "nbformat": 4,
 "nbformat_minor": 5
}
