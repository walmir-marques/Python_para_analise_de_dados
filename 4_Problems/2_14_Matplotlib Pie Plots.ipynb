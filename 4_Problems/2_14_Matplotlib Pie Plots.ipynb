{
 "cells": [
  {
   "cell_type": "markdown",
   "id": "87890aeb",
   "metadata": {},
   "source": [
    "<a target=\"_blank\" href=\"https://colab.research.google.com/github/lukebarousse/Python_Data_Analytics_Course/blob/main/4_Problems/2_14_Matplotlib Pie Plots.ipynb\">\n",
    "  <img src=\"https://colab.research.google.com/assets/colab-badge.svg\" alt=\"Open In Colab\"/>\n",
    "</a>"
   ]
  },
  {
   "cell_type": "code",
   "execution_count": null,
   "id": "3af1a0a7",
   "metadata": {},
   "outputs": [],
   "source": [
    "# Importing Libraries\n",
    "import ast\n",
    "import pandas as pd\n",
    "from datasets import load_dataset\n",
    "import matplotlib.pyplot as plt  \n",
    "\n",
    "# Loading Data\n",
    "dataset = load_dataset('lukebarousse/data_jobs')\n",
    "df = dataset['train'].to_pandas()\n",
    "\n",
    "# Data Cleanup\n",
    "df['job_posted_date'] = pd.to_datetime(df['job_posted_date'])\n",
    "df['job_skills'] = df['job_skills'].apply(lambda x: ast.literal_eval(x) if pd.notna(x) else x)"
   ]
  },
  {
   "cell_type": "markdown",
   "id": "c472ef97",
   "metadata": {},
   "source": [
    "## 🟩 Health Insurance Pie Chart (2.14.1)"
   ]
  },
  {
   "cell_type": "code",
   "execution_count": null,
   "id": "f22ea563",
   "metadata": {},
   "outputs": [],
   "source": []
  },
  {
   "cell_type": "markdown",
   "id": "feec27e8",
   "metadata": {},
   "source": [
    "---"
   ]
  },
  {
   "cell_type": "markdown",
   "id": "8019f0b4",
   "metadata": {},
   "source": [
    "## 🟨 Job Schedule Distribution (2.14.2)"
   ]
  },
  {
   "cell_type": "code",
   "execution_count": null,
   "id": "946c3846",
   "metadata": {},
   "outputs": [],
   "source": []
  },
  {
   "cell_type": "markdown",
   "id": "82d56c54",
   "metadata": {},
   "source": [
    "---"
   ]
  },
  {
   "cell_type": "markdown",
   "id": "cb6c5ec1",
   "metadata": {},
   "source": [
    "## 🟥 Degree Mentioned Pie Chart (2.14.3)"
   ]
  },
  {
   "cell_type": "code",
   "execution_count": null,
   "id": "af12c08a",
   "metadata": {},
   "outputs": [],
   "source": []
  },
  {
   "cell_type": "markdown",
   "id": "a6d8972e",
   "metadata": {},
   "source": [
    "---"
   ]
  }
 ],
 "metadata": {
  "language_info": {
   "name": "python"
  }
 },
 "nbformat": 4,
 "nbformat_minor": 5
}
