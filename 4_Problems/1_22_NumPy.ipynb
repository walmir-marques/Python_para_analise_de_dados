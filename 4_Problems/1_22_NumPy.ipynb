{
 "cells": [
  {
   "cell_type": "markdown",
   "id": "9135219d",
   "metadata": {},
   "source": [
    "<a target=\"_blank\" href=\"https://colab.research.google.com/github/lukebarousse/Python_Data_Analytics_Course/blob/main/4_Problems/1_22_NumPy.ipynb\">\n",
    "  <img src=\"https://colab.research.google.com/assets/colab-badge.svg\" alt=\"Open In Colab\"/>\n",
    "</a>"
   ]
  },
  {
   "cell_type": "markdown",
   "id": "bc778d7f",
   "metadata": {},
   "source": [
    "## 🟩 Create NumPy Array (1.22.1)"
   ]
  },
  {
   "cell_type": "code",
   "execution_count": null,
   "id": "3b7e6275",
   "metadata": {},
   "outputs": [],
   "source": [
    "# Code Needed\n",
    "applications_list = [10, 15, 7, 20, 25, 30, 5]"
   ]
  },
  {
   "cell_type": "markdown",
   "id": "e3e3b88b",
   "metadata": {},
   "source": [
    "---"
   ]
  },
  {
   "cell_type": "markdown",
   "id": "4b3869b5",
   "metadata": {},
   "source": [
    "## 🟩 Slicing Array (1.22.2)"
   ]
  },
  {
   "cell_type": "code",
   "execution_count": null,
   "id": "a3f8f040",
   "metadata": {},
   "outputs": [],
   "source": [
    "# Code Needed\n",
    "postings_list = [10, 15, 7, 20, 25, 30, 5]"
   ]
  },
  {
   "cell_type": "markdown",
   "id": "45a7a58a",
   "metadata": {},
   "source": [
    "---"
   ]
  },
  {
   "cell_type": "markdown",
   "id": "7b1ebbe9",
   "metadata": {},
   "source": [
    "## 🟨 Highest and Lowest Salary (1.22.3)"
   ]
  },
  {
   "cell_type": "code",
   "execution_count": null,
   "id": "b62f9aed",
   "metadata": {},
   "outputs": [],
   "source": [
    "# Code Needed\n",
    "salaries_list = [70000, 85000, 60000, 95000, 80000]"
   ]
  },
  {
   "cell_type": "markdown",
   "id": "65bf8796",
   "metadata": {},
   "source": [
    "---"
   ]
  }
 ],
 "metadata": {
  "language_info": {
   "name": "python"
  }
 },
 "nbformat": 4,
 "nbformat_minor": 5
}
