{
 "cells": [
  {
   "cell_type": "markdown",
   "id": "35c22e22",
   "metadata": {},
   "source": [
    "<a target=\"_blank\" href=\"https://colab.research.google.com/github/lukebarousse/Python_Data_Analytics_Course/blob/main/4_Problems/2_13_Matplotlib Format Charts.ipynb\">\n",
    "  <img src=\"https://colab.research.google.com/assets/colab-badge.svg\" alt=\"Open In Colab\"/>\n",
    "</a>"
   ]
  },
  {
   "cell_type": "code",
   "execution_count": null,
   "id": "cf271d3b",
   "metadata": {},
   "outputs": [],
   "source": [
    "# Importing Libraries\n",
    "import ast\n",
    "import pandas as pd\n",
    "from datasets import load_dataset\n",
    "import matplotlib.pyplot as plt  \n",
    "\n",
    "# Loading Data\n",
    "dataset = load_dataset('lukebarousse/data_jobs')\n",
    "df = dataset['train'].to_pandas()\n",
    "\n",
    "# Data Cleanup\n",
    "df['job_posted_date'] = pd.to_datetime(df['job_posted_date'])\n",
    "df['job_skills'] = df['job_skills'].apply(lambda x: ast.literal_eval(x) if pd.notna(x) else x)"
   ]
  },
  {
   "cell_type": "markdown",
   "id": "93d4bd66",
   "metadata": {},
   "source": [
    "## 🟩 Subplots with Bar Charts (2.13.1)"
   ]
  },
  {
   "cell_type": "code",
   "execution_count": null,
   "id": "f542e80c",
   "metadata": {},
   "outputs": [],
   "source": []
  },
  {
   "cell_type": "markdown",
   "id": "a1082174",
   "metadata": {},
   "source": [
    "---"
   ]
  },
  {
   "cell_type": "markdown",
   "id": "44001bd6",
   "metadata": {},
   "source": [
    "## 🟨 Subplots with Job Titles by Schedule (2.13.2)"
   ]
  },
  {
   "cell_type": "code",
   "execution_count": null,
   "id": "0ec207b2",
   "metadata": {},
   "outputs": [],
   "source": [
    "# Code Needed\n",
    "schedules = ['Full-time', 'Part-time', 'Contractor', 'Internship']"
   ]
  },
  {
   "cell_type": "markdown",
   "id": "d5e2bb11",
   "metadata": {},
   "source": [
    "---"
   ]
  },
  {
   "cell_type": "markdown",
   "id": "a1a99074",
   "metadata": {},
   "source": [
    "## 🟥 Top Skills for Job Roles Subplots (2.13.3)"
   ]
  },
  {
   "cell_type": "code",
   "execution_count": null,
   "id": "da9f1181",
   "metadata": {},
   "outputs": [],
   "source": [
    "# Code Needed\n",
    "job_roles = ['Senior Data Analyst', 'Senior Data Scientist', 'Senior Data Engineer']"
   ]
  },
  {
   "cell_type": "markdown",
   "id": "e259d5a1",
   "metadata": {},
   "source": [
    "---"
   ]
  }
 ],
 "metadata": {
  "language_info": {
   "name": "python"
  }
 },
 "nbformat": 4,
 "nbformat_minor": 5
}
