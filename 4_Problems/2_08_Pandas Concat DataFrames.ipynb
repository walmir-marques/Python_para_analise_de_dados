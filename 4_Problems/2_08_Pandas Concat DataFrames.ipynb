{
 "cells": [
  {
   "cell_type": "markdown",
   "id": "377d9c34",
   "metadata": {},
   "source": [
    "<a target=\"_blank\" href=\"https://colab.research.google.com/github/lukebarousse/Python_Data_Analytics_Course/blob/main/4_Problems/2_08_Pandas Concat DataFrames.ipynb\">\n",
    "  <img src=\"https://colab.research.google.com/assets/colab-badge.svg\" alt=\"Open In Colab\"/>\n",
    "</a>"
   ]
  },
  {
   "cell_type": "code",
   "execution_count": null,
   "id": "f1668ec6",
   "metadata": {},
   "outputs": [],
   "source": [
    "# Importing Libraries\n",
    "import pandas as pd\n",
    "from datasets import load_dataset\n",
    "import matplotlib.pyplot as plt  \n",
    "\n",
    "# Loading Data\n",
    "dataset = load_dataset('lukebarousse/data_jobs')\n",
    "df = dataset['train'].to_pandas()\n",
    "\n",
    "# Data Cleanup\n",
    "df['job_posted_date'] = pd.to_datetime(df['job_posted_date'])"
   ]
  },
  {
   "cell_type": "markdown",
   "id": "4eba23b5",
   "metadata": {},
   "source": [
    "## 🟩 Concat Job Postings (2.8.1)"
   ]
  },
  {
   "cell_type": "code",
   "execution_count": null,
   "id": "58d42ca1",
   "metadata": {},
   "outputs": [],
   "source": []
  },
  {
   "cell_type": "markdown",
   "id": "a3763fa0",
   "metadata": {},
   "source": [
    "---"
   ]
  },
  {
   "cell_type": "markdown",
   "id": "ccbd3b7e",
   "metadata": {},
   "source": [
    "## 🟨 Concat Monthly Postings (2.8.2)"
   ]
  },
  {
   "cell_type": "code",
   "execution_count": null,
   "id": "f4f012d5",
   "metadata": {},
   "outputs": [],
   "source": []
  },
  {
   "cell_type": "markdown",
   "id": "23786904",
   "metadata": {},
   "source": [
    "---"
   ]
  },
  {
   "cell_type": "markdown",
   "id": "a9e56926",
   "metadata": {},
   "source": [
    "## 🟨 Concat Job Types (2.8.3)"
   ]
  },
  {
   "cell_type": "code",
   "execution_count": null,
   "id": "0f8d8a80",
   "metadata": {},
   "outputs": [],
   "source": []
  },
  {
   "cell_type": "markdown",
   "id": "272af9fd",
   "metadata": {},
   "source": [
    "---"
   ]
  }
 ],
 "metadata": {
  "language_info": {
   "name": "python"
  }
 },
 "nbformat": 4,
 "nbformat_minor": 5
}
