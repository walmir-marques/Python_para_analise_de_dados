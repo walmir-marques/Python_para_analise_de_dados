{
 "cells": [
  {
   "cell_type": "markdown",
   "id": "fd5a78c1",
   "metadata": {},
   "source": [
    "<a target=\"_blank\" href=\"https://colab.research.google.com/github/lukebarousse/Python_Data_Analytics_Course/blob/main/4_Problems/2_05_Pandas Index Management.ipynb\">\n",
    "  <img src=\"https://colab.research.google.com/assets/colab-badge.svg\" alt=\"Open In Colab\"/>\n",
    "</a>"
   ]
  },
  {
   "cell_type": "code",
   "execution_count": null,
   "id": "a1752413",
   "metadata": {},
   "outputs": [],
   "source": [
    "# Importing Libraries\n",
    "import pandas as pd\n",
    "from datasets import load_dataset\n",
    "import matplotlib.pyplot as plt  \n",
    "\n",
    "# Loading Data\n",
    "dataset = load_dataset('lukebarousse/data_jobs')\n",
    "df = dataset['train'].to_pandas()\n",
    "\n",
    "# Data Cleanup\n",
    "df['job_posted_date'] = pd.to_datetime(df['job_posted_date'])"
   ]
  },
  {
   "cell_type": "markdown",
   "id": "c75c18fa",
   "metadata": {},
   "source": [
    "## 🟩 Set Index and Display Rows (2.5.1)"
   ]
  },
  {
   "cell_type": "code",
   "execution_count": null,
   "id": "2566ef06",
   "metadata": {},
   "outputs": [],
   "source": []
  },
  {
   "cell_type": "markdown",
   "id": "d8f62024",
   "metadata": {},
   "source": [
    "---"
   ]
  },
  {
   "cell_type": "markdown",
   "id": "c4fc1961",
   "metadata": {},
   "source": [
    "## 🟩 Reset Index and Drop Existing (2.5.2)"
   ]
  },
  {
   "cell_type": "code",
   "execution_count": null,
   "id": "0580dbd4",
   "metadata": {},
   "outputs": [],
   "source": []
  },
  {
   "cell_type": "markdown",
   "id": "cc33298d",
   "metadata": {},
   "source": [
    "---"
   ]
  },
  {
   "cell_type": "markdown",
   "id": "11ca3193",
   "metadata": {},
   "source": [
    "## 🟩 Sort Index (2.5.3)"
   ]
  },
  {
   "cell_type": "code",
   "execution_count": null,
   "id": "5abe3ea5",
   "metadata": {},
   "outputs": [],
   "source": []
  },
  {
   "cell_type": "markdown",
   "id": "cb527fcf",
   "metadata": {},
   "source": [
    "---"
   ]
  },
  {
   "cell_type": "markdown",
   "id": "346e0593",
   "metadata": {},
   "source": [
    "## 🟨 Pivot Table Reset & Set Index (2.5.4)"
   ]
  },
  {
   "cell_type": "code",
   "execution_count": null,
   "id": "aed89e7a",
   "metadata": {},
   "outputs": [],
   "source": []
  },
  {
   "cell_type": "markdown",
   "id": "2aa135de",
   "metadata": {},
   "source": [
    "---"
   ]
  }
 ],
 "metadata": {
  "language_info": {
   "name": "python"
  }
 },
 "nbformat": 4,
 "nbformat_minor": 5
}
