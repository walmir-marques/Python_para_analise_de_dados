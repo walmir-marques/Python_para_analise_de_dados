{
 "cells": [
  {
   "cell_type": "markdown",
   "id": "b4352c3a",
   "metadata": {},
   "source": [
    "<a target=\"_blank\" href=\"https://colab.research.google.com/github/lukebarousse/Python_Data_Analytics_Course/blob/main/4_Problems/2_15_Matplotlib Scatter Plots.ipynb\">\n",
    "  <img src=\"https://colab.research.google.com/assets/colab-badge.svg\" alt=\"Open In Colab\"/>\n",
    "</a>"
   ]
  },
  {
   "cell_type": "code",
   "execution_count": null,
   "id": "aafc40db",
   "metadata": {},
   "outputs": [],
   "source": [
    "# Importing Libraries\n",
    "import ast\n",
    "import pandas as pd\n",
    "from datasets import load_dataset\n",
    "import matplotlib.pyplot as plt  \n",
    "\n",
    "# Loading Data\n",
    "dataset = load_dataset('lukebarousse/data_jobs')\n",
    "df = dataset['train'].to_pandas()\n",
    "\n",
    "# Data Cleanup\n",
    "df['job_posted_date'] = pd.to_datetime(df['job_posted_date'])\n",
    "df['job_skills'] = df['job_skills'].apply(lambda x: ast.literal_eval(x) if pd.notna(x) else x)"
   ]
  },
  {
   "cell_type": "markdown",
   "id": "c0c4e516",
   "metadata": {},
   "source": [
    "## 🟨 Median Yearly Salary vs. Job Count (2.15.1)"
   ]
  },
  {
   "cell_type": "code",
   "execution_count": null,
   "id": "5cabb6f0",
   "metadata": {},
   "outputs": [],
   "source": []
  },
  {
   "cell_type": "markdown",
   "id": "f636b03f",
   "metadata": {},
   "source": [
    "---"
   ]
  },
  {
   "cell_type": "markdown",
   "id": "b7c76f1c",
   "metadata": {},
   "source": [
    "## 🟨 Top 7 Countries by Median Yearly Salary vs Job Count  (2.15.2)"
   ]
  },
  {
   "cell_type": "code",
   "execution_count": null,
   "id": "242a73b9",
   "metadata": {},
   "outputs": [],
   "source": []
  },
  {
   "cell_type": "markdown",
   "id": "860b094d",
   "metadata": {},
   "source": [
    "---"
   ]
  },
  {
   "cell_type": "markdown",
   "id": "420eccdc",
   "metadata": {},
   "source": [
    "## 🟥 Average Yearly Salary vs. Job Count for Top Roles by Schedule Type (2.15.3)"
   ]
  },
  {
   "cell_type": "code",
   "execution_count": null,
   "id": "dd4df130",
   "metadata": {},
   "outputs": [],
   "source": [
    "# Code Needed\n",
    "target_job_titles = ['Data Analyst', 'Data Scientist', 'Data Engineer']"
   ]
  },
  {
   "cell_type": "markdown",
   "id": "e4c6f636",
   "metadata": {},
   "source": [
    "---"
   ]
  }
 ],
 "metadata": {
  "language_info": {
   "name": "python"
  }
 },
 "nbformat": 4,
 "nbformat_minor": 5
}
