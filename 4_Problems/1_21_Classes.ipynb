{
 "cells": [
  {
   "cell_type": "markdown",
   "id": "18a8d444",
   "metadata": {},
   "source": [
    "<a target=\"_blank\" href=\"https://colab.research.google.com/github/lukebarousse/Python_Data_Analytics_Course/blob/main/4_Problems/1_21_Classes.ipynb\">\n",
    "  <img src=\"https://colab.research.google.com/assets/colab-badge.svg\" alt=\"Open In Colab\"/>\n",
    "</a>"
   ]
  },
  {
   "cell_type": "markdown",
   "id": "edc8a40a",
   "metadata": {},
   "source": [
    "## 🟩 Create JobPosting Class (1.21.1)"
   ]
  },
  {
   "cell_type": "code",
   "execution_count": null,
   "id": "26bdb6dc",
   "metadata": {},
   "outputs": [],
   "source": [
    "# Create the JobPostings class in this code cell"
   ]
  },
  {
   "cell_type": "code",
   "execution_count": null,
   "id": "2461f7a5",
   "metadata": {},
   "outputs": [],
   "source": [
    "# Code Needed\n",
    "job = JobPosting('Data Scientist', 'Tech Innovations', 'New York')"
   ]
  },
  {
   "cell_type": "markdown",
   "id": "98b6caff",
   "metadata": {},
   "source": [
    "---"
   ]
  },
  {
   "cell_type": "markdown",
   "id": "b152b78d",
   "metadata": {},
   "source": [
    "## 🟨 Convert to Dictionary (1.21.2)"
   ]
  },
  {
   "cell_type": "code",
   "execution_count": null,
   "id": "82b617cd",
   "metadata": {},
   "outputs": [],
   "source": [
    "# Create the JobPostings class in this code cell"
   ]
  },
  {
   "cell_type": "code",
   "execution_count": null,
   "id": "d1bc613a",
   "metadata": {},
   "outputs": [],
   "source": [
    "# Code Needed\n",
    "job = JobPosting('Data Scientist', 'Tech Innovations', 'New York', 120000)"
   ]
  },
  {
   "cell_type": "markdown",
   "id": "68c9b6ec",
   "metadata": {},
   "source": [
    "---"
   ]
  },
  {
   "cell_type": "markdown",
   "id": "65b80ffe",
   "metadata": {},
   "source": [
    "## 🟥 Compare Job Salaries (1.21.3)"
   ]
  },
  {
   "cell_type": "code",
   "execution_count": null,
   "id": "5d5cf1bd",
   "metadata": {},
   "outputs": [],
   "source": [
    "# Create the JobPostings class in this code cell"
   ]
  },
  {
   "cell_type": "code",
   "execution_count": null,
   "id": "5a6b25e4",
   "metadata": {},
   "outputs": [],
   "source": [
    "# Code Needed\n",
    "job1 = JobPosting('Data Scientist', 'Tech Innovations', 'New York', 120000)\n",
    "job2 = JobPosting('Data Analyst', 'Data Driven Co', 'San Francisco', 100000)"
   ]
  },
  {
   "cell_type": "markdown",
   "id": "0f083bf1",
   "metadata": {},
   "source": [
    "---"
   ]
  }
 ],
 "metadata": {
  "language_info": {
   "name": "python"
  }
 },
 "nbformat": 4,
 "nbformat_minor": 5
}
