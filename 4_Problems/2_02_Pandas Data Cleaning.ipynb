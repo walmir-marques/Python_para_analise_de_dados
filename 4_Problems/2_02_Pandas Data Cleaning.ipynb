{
 "cells": [
  {
   "cell_type": "markdown",
   "id": "50249611",
   "metadata": {},
   "source": [
    "<a target=\"_blank\" href=\"https://colab.research.google.com/github/lukebarousse/Python_Data_Analytics_Course/blob/main/4_Problems/2_02_Pandas Data Cleaning.ipynb\">\n",
    "  <img src=\"https://colab.research.google.com/assets/colab-badge.svg\" alt=\"Open In Colab\"/>\n",
    "</a>"
   ]
  },
  {
   "cell_type": "code",
   "execution_count": null,
   "id": "f0929e6d",
   "metadata": {},
   "outputs": [],
   "source": [
    "# Importing Libraries\n",
    "import pandas as pd\n",
    "from datasets import load_dataset\n",
    "import matplotlib.pyplot as plt  \n",
    "\n",
    "# Loading Data\n",
    "dataset = load_dataset('lukebarousse/data_jobs')\n",
    "df = dataset['train'].to_pandas()\n",
    "\n",
    "# Data Cleanup\n",
    "df['job_posted_date'] = pd.to_datetime(df['job_posted_date'])"
   ]
  },
  {
   "cell_type": "markdown",
   "id": "7e5d8211",
   "metadata": {},
   "source": [
    "## 🟩 Remove Rows with Missing Values (2.2.1)"
   ]
  },
  {
   "cell_type": "code",
   "execution_count": null,
   "id": "4b8bc3c2",
   "metadata": {},
   "outputs": [],
   "source": []
  },
  {
   "cell_type": "markdown",
   "id": "a148127f",
   "metadata": {},
   "source": [
    "---"
   ]
  },
  {
   "cell_type": "markdown",
   "id": "eaf03dda",
   "metadata": {},
   "source": [
    "## 🟨 Remove Duplicate Rows (2.2.2)"
   ]
  },
  {
   "cell_type": "code",
   "execution_count": null,
   "id": "ae6ad853",
   "metadata": {},
   "outputs": [],
   "source": []
  },
  {
   "cell_type": "markdown",
   "id": "472bfc70",
   "metadata": {},
   "source": [
    "---"
   ]
  },
  {
   "cell_type": "markdown",
   "id": "e26a84d6",
   "metadata": {},
   "source": [
    "## 🟨 Fill Missing Values in Column (2.2.3)"
   ]
  },
  {
   "cell_type": "code",
   "execution_count": null,
   "id": "b96b4fe1",
   "metadata": {},
   "outputs": [],
   "source": []
  },
  {
   "cell_type": "markdown",
   "id": "4ab1c267",
   "metadata": {},
   "source": [
    "---"
   ]
  }
 ],
 "metadata": {
  "language_info": {
   "name": "python"
  }
 },
 "nbformat": 4,
 "nbformat_minor": 5
}
