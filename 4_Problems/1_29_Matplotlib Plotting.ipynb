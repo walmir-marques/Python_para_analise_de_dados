{
 "cells": [
  {
   "cell_type": "markdown",
   "id": "5b0aa215",
   "metadata": {},
   "source": [
    "<a target=\"_blank\" href=\"https://colab.research.google.com/github/lukebarousse/Python_Data_Analytics_Course/blob/main/4_Problems/1_29_Matplotlib Plotting.ipynb\">\n",
    "  <img src=\"https://colab.research.google.com/assets/colab-badge.svg\" alt=\"Open In Colab\"/>\n",
    "</a>"
   ]
  },
  {
   "cell_type": "code",
   "execution_count": null,
   "id": "57cddc54",
   "metadata": {},
   "outputs": [],
   "source": [
    "!pip install datasets\n",
    "import pandas as pd\n",
    "from datasets import load_dataset\n",
    "\n",
    "dataset = load_dataset('lukebarousse/data_jobs')\n",
    "df = dataset['train'].to_pandas()\n",
    "\n",
    "df['job_posted_date'] = pd.to_datetime(df['job_posted_date'])"
   ]
  },
  {
   "cell_type": "markdown",
   "id": "ef4f96d3",
   "metadata": {},
   "source": [
    "## 🟩 Job Country Bar Chart (1.29.1)"
   ]
  },
  {
   "cell_type": "code",
   "execution_count": null,
   "id": "30aaa8cb",
   "metadata": {},
   "outputs": [],
   "source": []
  },
  {
   "cell_type": "markdown",
   "id": "baaa586e",
   "metadata": {},
   "source": [
    "---"
   ]
  },
  {
   "cell_type": "markdown",
   "id": "3866f2a5",
   "metadata": {},
   "source": [
    "## 🟨 Average Salary Horizontal Bar Chart (1.29.2)"
   ]
  },
  {
   "cell_type": "code",
   "execution_count": null,
   "id": "8eb56aa0",
   "metadata": {},
   "outputs": [],
   "source": []
  },
  {
   "cell_type": "markdown",
   "id": "2aad18f5",
   "metadata": {},
   "source": [
    "---"
   ]
  },
  {
   "cell_type": "markdown",
   "id": "b8f73196",
   "metadata": {},
   "source": [
    "## 🟥 Average Salary Trend Line Plot (1.29.3)"
   ]
  },
  {
   "cell_type": "code",
   "execution_count": null,
   "id": "c0fcd380",
   "metadata": {},
   "outputs": [],
   "source": []
  },
  {
   "cell_type": "markdown",
   "id": "7deb9eb4",
   "metadata": {},
   "source": [
    "---"
   ]
  }
 ],
 "metadata": {
  "language_info": {
   "name": "python"
  }
 },
 "nbformat": 4,
 "nbformat_minor": 5
}
