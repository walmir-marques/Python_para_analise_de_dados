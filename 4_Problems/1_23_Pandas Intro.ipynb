{
 "cells": [
  {
   "cell_type": "markdown",
   "id": "cd18f1ad",
   "metadata": {},
   "source": [
    "<a target=\"_blank\" href=\"https://colab.research.google.com/github/lukebarousse/Python_Data_Analytics_Course/blob/main/4_Problems/1_23_Pandas Intro.ipynb\">\n",
    "  <img src=\"https://colab.research.google.com/assets/colab-badge.svg\" alt=\"Open In Colab\"/>\n",
    "</a>"
   ]
  },
  {
   "cell_type": "markdown",
   "id": "8fc69485",
   "metadata": {},
   "source": [
    "## 🟩 Load and Display Last 5 Rows (1.23.1)"
   ]
  },
  {
   "cell_type": "code",
   "execution_count": null,
   "id": "d8ec0631",
   "metadata": {},
   "outputs": [],
   "source": []
  },
  {
   "cell_type": "markdown",
   "id": "71ea4cdc",
   "metadata": {},
   "source": [
    "---"
   ]
  },
  {
   "cell_type": "markdown",
   "id": "b0e36442",
   "metadata": {},
   "source": [
    "## 🟩 Select Job Location Column (1.23.2)"
   ]
  },
  {
   "cell_type": "code",
   "execution_count": null,
   "id": "9062f032",
   "metadata": {},
   "outputs": [],
   "source": []
  },
  {
   "cell_type": "markdown",
   "id": "97ef6ba5",
   "metadata": {},
   "source": [
    "---"
   ]
  },
  {
   "cell_type": "markdown",
   "id": "657854a6",
   "metadata": {},
   "source": [
    "## 🟩 Select Search Location Column (1.23.3)"
   ]
  },
  {
   "cell_type": "code",
   "execution_count": null,
   "id": "3b544269",
   "metadata": {},
   "outputs": [],
   "source": []
  },
  {
   "cell_type": "markdown",
   "id": "6cddcc08",
   "metadata": {},
   "source": [
    "---"
   ]
  },
  {
   "cell_type": "markdown",
   "id": "c18b384e",
   "metadata": {},
   "source": [
    "## 🟩 Select Job Title from 57th Row Element (1.23.4)"
   ]
  },
  {
   "cell_type": "code",
   "execution_count": null,
   "id": "3240778d",
   "metadata": {},
   "outputs": [],
   "source": []
  },
  {
   "cell_type": "markdown",
   "id": "24502846",
   "metadata": {},
   "source": [
    "---"
   ]
  }
 ],
 "metadata": {
  "language_info": {
   "name": "python"
  }
 },
 "nbformat": 4,
 "nbformat_minor": 5
}
