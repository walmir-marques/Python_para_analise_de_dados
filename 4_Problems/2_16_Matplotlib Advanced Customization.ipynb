{
 "cells": [
  {
   "cell_type": "markdown",
   "id": "17ff9094",
   "metadata": {},
   "source": [
    "<a target=\"_blank\" href=\"https://colab.research.google.com/github/lukebarousse/Python_Data_Analytics_Course/blob/main/4_Problems/2_16_Matplotlib Advanced Customization.ipynb\">\n",
    "  <img src=\"https://colab.research.google.com/assets/colab-badge.svg\" alt=\"Open In Colab\"/>\n",
    "</a>"
   ]
  },
  {
   "cell_type": "code",
   "execution_count": null,
   "id": "da1f286f",
   "metadata": {},
   "outputs": [],
   "source": [
    "# Importing Libraries\n",
    "import ast\n",
    "import pandas as pd\n",
    "from datasets import load_dataset\n",
    "import matplotlib.pyplot as plt  \n",
    "\n",
    "# Loading Data\n",
    "dataset = load_dataset('lukebarousse/data_jobs')\n",
    "df = dataset['train'].to_pandas()\n",
    "\n",
    "# Data Cleanup\n",
    "df['job_posted_date'] = pd.to_datetime(df['job_posted_date'])\n",
    "df['job_skills'] = df['job_skills'].apply(lambda x: ast.literal_eval(x) if pd.notna(x) else x)"
   ]
  },
  {
   "cell_type": "markdown",
   "id": "0eb62412",
   "metadata": {},
   "source": [
    "## 🟩 Job Postings Trend for Cloud Engineers (2.16.1)"
   ]
  },
  {
   "cell_type": "code",
   "execution_count": null,
   "id": "bdf7094c",
   "metadata": {},
   "outputs": [],
   "source": []
  },
  {
   "cell_type": "markdown",
   "id": "00d2fc44",
   "metadata": {},
   "source": [
    "---"
   ]
  },
  {
   "cell_type": "markdown",
   "id": "4c966e8c",
   "metadata": {},
   "source": [
    "## 🟨 Customize Bar Chart (2.16.2)"
   ]
  },
  {
   "cell_type": "code",
   "execution_count": null,
   "id": "f76edcfd",
   "metadata": {},
   "outputs": [],
   "source": [
    "# Code Needed\n",
    "colors = ['blue', 'orange', 'green', 'red', 'purple']"
   ]
  },
  {
   "cell_type": "markdown",
   "id": "fa590e22",
   "metadata": {},
   "source": [
    "---"
   ]
  }
 ],
 "metadata": {
  "language_info": {
   "name": "python"
  }
 },
 "nbformat": 4,
 "nbformat_minor": 5
}
