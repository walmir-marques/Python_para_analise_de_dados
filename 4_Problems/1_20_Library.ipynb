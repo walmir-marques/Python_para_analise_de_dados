{
 "cells": [
  {
   "cell_type": "markdown",
   "id": "f3a0613c",
   "metadata": {},
   "source": [
    "<a target=\"_blank\" href=\"https://colab.research.google.com/github/lukebarousse/Python_Data_Analytics_Course/blob/main/4_Problems/1_20_Library.ipynb\">\n",
    "  <img src=\"https://colab.research.google.com/assets/colab-badge.svg\" alt=\"Open In Colab\"/>\n",
    "</a>"
   ]
  },
  {
   "cell_type": "markdown",
   "id": "e6505203",
   "metadata": {},
   "source": [
    "## 🟩 List Installed Packages (1.20.1)"
   ]
  },
  {
   "cell_type": "code",
   "execution_count": null,
   "id": "e1dd250a",
   "metadata": {},
   "outputs": [],
   "source": []
  },
  {
   "cell_type": "markdown",
   "id": "e775db51",
   "metadata": {},
   "source": [
    "---"
   ]
  },
  {
   "cell_type": "markdown",
   "id": "39074299",
   "metadata": {},
   "source": [
    "## 🟨 Install and Verify Library (1.20.2)"
   ]
  },
  {
   "cell_type": "code",
   "execution_count": null,
   "id": "aae633d0",
   "metadata": {},
   "outputs": [],
   "source": []
  },
  {
   "cell_type": "markdown",
   "id": "3118afc9",
   "metadata": {},
   "source": [
    "---"
   ]
  },
  {
   "cell_type": "markdown",
   "id": "88926c39",
   "metadata": {},
   "source": [
    "## 🟨 List Files in Directory (1.20.3)"
   ]
  },
  {
   "cell_type": "code",
   "execution_count": null,
   "id": "e5cc7e52",
   "metadata": {},
   "outputs": [],
   "source": []
  },
  {
   "cell_type": "markdown",
   "id": "9a1c3dd0",
   "metadata": {},
   "source": [
    "---"
   ]
  },
  {
   "cell_type": "markdown",
   "id": "6dad15ad",
   "metadata": {},
   "source": [
    "## 🟥 Fetch Data from URL (1.20.4)"
   ]
  },
  {
   "cell_type": "code",
   "execution_count": null,
   "id": "d055192c",
   "metadata": {},
   "outputs": [],
   "source": [
    "# Code Needed\n",
    "url = 'https://pokeapi.co/api/v2/pokemon/pikachu'"
   ]
  },
  {
   "cell_type": "markdown",
   "id": "fe5a405c",
   "metadata": {},
   "source": [
    "---"
   ]
  }
 ],
 "metadata": {},
 "nbformat": 4,
 "nbformat_minor": 5
}
