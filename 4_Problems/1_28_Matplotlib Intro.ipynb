{
 "cells": [
  {
   "cell_type": "markdown",
   "id": "3b08ad00",
   "metadata": {},
   "source": [
    "<a target=\"_blank\" href=\"https://colab.research.google.com/github/lukebarousse/Python_Data_Analytics_Course/blob/main/4_Problems/1_28_Matplotlib Intro.ipynb\">\n",
    "  <img src=\"https://colab.research.google.com/assets/colab-badge.svg\" alt=\"Open In Colab\"/>\n",
    "</a>"
   ]
  },
  {
   "cell_type": "markdown",
   "id": "3558c2dc",
   "metadata": {},
   "source": [
    "## 🟩 Simple Line Plot (1.28.1)"
   ]
  },
  {
   "cell_type": "code",
   "execution_count": null,
   "id": "78948687",
   "metadata": {},
   "outputs": [],
   "source": [
    "# Code Needed\n",
    "months = ['January', 'February', 'March', 'April']\n",
    "postings = [120, 150, 100, 130]"
   ]
  },
  {
   "cell_type": "markdown",
   "id": "91e68d25",
   "metadata": {},
   "source": [
    "---"
   ]
  },
  {
   "cell_type": "markdown",
   "id": "db653de4",
   "metadata": {},
   "source": [
    "## 🟥 Bar Chart (1.28.2)"
   ]
  },
  {
   "cell_type": "code",
   "execution_count": null,
   "id": "4dbd5a6e",
   "metadata": {},
   "outputs": [],
   "source": [
    "# Code Needed\n",
    "job_titles = ['Data Analyst', 'Data Scientist', 'Data Engineer']\n",
    "postings = [50, 75, 60]"
   ]
  },
  {
   "cell_type": "markdown",
   "id": "8e78bdfc",
   "metadata": {},
   "source": [
    "---"
   ]
  }
 ],
 "metadata": {},
 "nbformat": 4,
 "nbformat_minor": 5
}
